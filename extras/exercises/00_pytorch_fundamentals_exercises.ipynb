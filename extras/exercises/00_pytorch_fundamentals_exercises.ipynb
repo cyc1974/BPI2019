{
  "nbformat": 4,
  "nbformat_minor": 0,
  "metadata": {
    "colab": {
      "name": "00_pytorch_fundamentals_exercises.ipynb",
      "provenance": [],
      "collapsed_sections": []
    },
    "kernelspec": {
      "name": "python3",
      "display_name": "Python 3"
    },
    "language_info": {
      "name": "python"
    },
    "accelerator": "GPU"
  },
  "cells": [
    {
      "cell_type": "markdown",
      "source": [
        "# 00. PyTorch Fundamentals Exercises\n",
        "\n",
        "### 1. Documentation reading \n",
        "\n",
        "A big part of deep learning (and learning to code in general) is getting familiar with the documentation of a certain framework you're using. We'll be using the PyTorch documentation a lot throughout the rest of this course. So I'd recommend spending 10-minutes reading the following (it's okay if you don't get some things for now, the focus is not yet full understanding, it's awareness):\n",
        "  * The documentation on [`torch.Tensor`](https://pytorch.org/docs/stable/tensors.html#torch-tensor).\n",
        "  * The documentation on [`torch.cuda`](https://pytorch.org/docs/master/notes/cuda.html#cuda-semantics).\n",
        "\n"
      ],
      "metadata": {
        "id": "AzDBM_v4iMe7"
      }
    },
    {
      "cell_type": "code",
      "source": [
        "# No code solution (reading)"
      ],
      "metadata": {
        "id": "bGD0oD8Kizak"
      },
      "execution_count": null,
      "outputs": []
    },
    {
      "cell_type": "markdown",
      "source": [
        "### 2. Create a random tensor with shape `(7, 7)`.\n"
      ],
      "metadata": {
        "id": "__iXqqz-ioUJ"
      }
    },
    {
      "cell_type": "code",
      "source": [
        "# Import torch\n",
        "\n",
        "import torch\n",
        "\n",
        "# Create random tensor\n",
        "x=torch.rand(7,7)\n",
        "\n",
        "x,x.shape"
      ],
      "metadata": {
        "id": "6pUq9Dc8i2L7",
        "outputId": "3a602d49-413b-4149-f590-e002e58a9b61",
        "colab": {
          "base_uri": "https://localhost:8080/"
        }
      },
      "execution_count": 4,
      "outputs": [
        {
          "output_type": "execute_result",
          "data": {
            "text/plain": [
              "(tensor([[0.1552, 0.3299, 0.2444, 0.8922, 0.6902, 0.3432, 0.1033],\n",
              "         [0.9041, 0.2250, 0.8319, 0.7467, 0.0776, 0.0882, 0.8574],\n",
              "         [0.9032, 0.7483, 0.6146, 0.8083, 0.7626, 0.6040, 0.6233],\n",
              "         [0.4620, 0.3050, 0.2789, 0.4093, 0.1083, 0.8284, 0.2612],\n",
              "         [0.0378, 0.7013, 0.9807, 0.3446, 0.1331, 0.5550, 0.7289],\n",
              "         [0.4683, 0.8603, 0.6495, 0.2841, 0.3546, 0.3075, 0.1098],\n",
              "         [0.5650, 0.1779, 0.0759, 0.7242, 0.5759, 0.8690, 0.6182]]),\n",
              " torch.Size([7, 7]))"
            ]
          },
          "metadata": {},
          "execution_count": 4
        }
      ]
    },
    {
      "cell_type": "code",
      "source": [],
      "metadata": {
        "id": "npX1B-DmVaeX"
      },
      "execution_count": null,
      "outputs": []
    },
    {
      "cell_type": "markdown",
      "source": [
        "### 3. Perform a matrix multiplication on the tensor from 2 with another random tensor with shape `(1, 7)` (hint: you may have to transpose the second tensor)."
      ],
      "metadata": {
        "id": "9-XxvRLfiqkR"
      }
    },
    {
      "cell_type": "code",
      "source": [
        "# Create another random tensor\n",
        "y = torch.rand(1,7)\n",
        "# Perform matrix multiplication \n",
        "z = torch.matmul(x,y.T)\n",
        "print(f'x:{x}')\n",
        "print(f'y:{y}')\n",
        "print(f'z:{z}')\n",
        "z,z.shape"
      ],
      "metadata": {
        "id": "NcLqR0Sbi_vT",
        "outputId": "dba17053-9f40-405f-c8a6-5a217f6aa80d",
        "colab": {
          "base_uri": "https://localhost:8080/"
        }
      },
      "execution_count": 6,
      "outputs": [
        {
          "output_type": "stream",
          "name": "stdout",
          "text": [
            "x:tensor([[0.1552, 0.3299, 0.2444, 0.8922, 0.6902, 0.3432, 0.1033],\n",
            "        [0.9041, 0.2250, 0.8319, 0.7467, 0.0776, 0.0882, 0.8574],\n",
            "        [0.9032, 0.7483, 0.6146, 0.8083, 0.7626, 0.6040, 0.6233],\n",
            "        [0.4620, 0.3050, 0.2789, 0.4093, 0.1083, 0.8284, 0.2612],\n",
            "        [0.0378, 0.7013, 0.9807, 0.3446, 0.1331, 0.5550, 0.7289],\n",
            "        [0.4683, 0.8603, 0.6495, 0.2841, 0.3546, 0.3075, 0.1098],\n",
            "        [0.5650, 0.1779, 0.0759, 0.7242, 0.5759, 0.8690, 0.6182]])\n",
            "y:tensor([[0.4085, 0.3695, 0.9924, 0.4334, 0.9944, 0.4303, 0.0449]])\n",
            "z:tensor([[1.6531],\n",
            "        [1.7552],\n",
            "        [2.6518],\n",
            "        [1.2314],\n",
            "        [1.8011],\n",
            "        [1.7667],\n",
            "        [1.6600]])\n"
          ]
        },
        {
          "output_type": "execute_result",
          "data": {
            "text/plain": [
              "(tensor([[1.6531],\n",
              "         [1.7552],\n",
              "         [2.6518],\n",
              "         [1.2314],\n",
              "         [1.8011],\n",
              "         [1.7667],\n",
              "         [1.6600]]), torch.Size([7, 1]))"
            ]
          },
          "metadata": {},
          "execution_count": 6
        }
      ]
    },
    {
      "cell_type": "markdown",
      "source": [
        "### 4. Set the random seed to `0` and do 2 & 3 over again.\n",
        "\n",
        "The output should be:\n",
        "```\n",
        "(tensor([[1.8542],\n",
        "         [1.9611],\n",
        "         [2.2884],\n",
        "         [3.0481],\n",
        "         [1.7067],\n",
        "         [2.5290],\n",
        "         [1.7989]]), torch.Size([7, 1]))\n",
        "```"
      ],
      "metadata": {
        "id": "eiutdKUFiryU"
      }
    },
    {
      "cell_type": "code",
      "source": [
        "# Set manual seed\n",
        "torch.manual_seed(0)\n",
        "\n",
        "# Create two random tensors\n",
        "x=torch.rand(7,7)\n",
        "y=torch.rand(1,7)\n",
        "\n",
        "# Matrix multiply tensors\n",
        "z = torch.matmul(x,y.T)\n",
        "z,z.shape"
      ],
      "metadata": {
        "id": "D-lOWI_1jRMm",
        "outputId": "7376c95e-b111-4e59-cb1d-ad53d85f0c95",
        "colab": {
          "base_uri": "https://localhost:8080/"
        }
      },
      "execution_count": 13,
      "outputs": [
        {
          "output_type": "execute_result",
          "data": {
            "text/plain": [
              "(tensor([[0.9454],\n",
              "         [0.9473],\n",
              "         [0.7089],\n",
              "         [1.4405],\n",
              "         [1.3714],\n",
              "         [0.9152],\n",
              "         [0.9704]]), torch.Size([7, 1]))"
            ]
          },
          "metadata": {},
          "execution_count": 13
        }
      ]
    },
    {
      "cell_type": "markdown",
      "source": [
        "### 5. Speaking of random seeds, we saw how to set it with `torch.manual_seed()` but is there a GPU equivalent? (hint: you'll need to look into the documentation for `torch.cuda` for this one)\n",
        "  * If there is, set the GPU random seed to `1234`."
      ],
      "metadata": {
        "id": "ezY6ks9Cis37"
      }
    },
    {
      "cell_type": "code",
      "source": [
        "# Set random seed on the GPU\n",
        "torch.cuda.manual_seed(1234)"
      ],
      "metadata": {
        "id": "_LKWcfSTjp00"
      },
      "execution_count": 14,
      "outputs": []
    },
    {
      "cell_type": "markdown",
      "source": [
        "\n",
        "### 6. Create two random tensors of shape `(2, 3)` and send them both to the GPU (you'll need access to a GPU for this). Set `torch.manual_seed(1234)` when creating the tensors (this doesn't have to be the GPU random seed). The output should be something like:\n",
        "\n",
        "```\n",
        "Device: cuda\n",
        "(tensor([[0.0290, 0.4019, 0.2598],\n",
        "         [0.3666, 0.0583, 0.7006]], device='cuda:0'),\n",
        " tensor([[0.0518, 0.4681, 0.6738],\n",
        "         [0.3315, 0.7837, 0.5631]], device='cuda:0'))\n",
        "```"
      ],
      "metadata": {
        "id": "Ir9qSaj6it4n"
      }
    },
    {
      "cell_type": "code",
      "source": [
        "# Set random seed\n",
        "torch.manual_seed(1234)\n",
        "\n",
        "# Check for access to GPU\n",
        "device=\"cuda\" if torch.cuda.is_available() else \"cpu\"\n",
        "print(device)\n",
        "# Create two random tensors on GPU\n",
        "ts_a = torch.rand(2,3).to(device)\n",
        "ts_b = torch.rand(2,3).to(device)\n",
        "print(f'device:{device}')\n",
        "ts_a, ts_b"
      ],
      "metadata": {
        "id": "azXExiFZj5nm",
        "outputId": "eaf2ca90-c20b-4d18-c87b-08ea7469f040",
        "colab": {
          "base_uri": "https://localhost:8080/"
        }
      },
      "execution_count": 15,
      "outputs": [
        {
          "output_type": "stream",
          "name": "stdout",
          "text": [
            "cpu\n",
            "device:cpu\n"
          ]
        },
        {
          "output_type": "execute_result",
          "data": {
            "text/plain": [
              "(tensor([[0.0290, 0.4019, 0.2598],\n",
              "         [0.3666, 0.0583, 0.7006]]), tensor([[0.0518, 0.4681, 0.6738],\n",
              "         [0.3315, 0.7837, 0.5631]]))"
            ]
          },
          "metadata": {},
          "execution_count": 15
        }
      ]
    },
    {
      "cell_type": "markdown",
      "source": [
        "\n",
        "### 7. Perform a matrix multiplication on the tensors you created in 6 (again, you may have to adjust the shapes of one of the tensors).\n",
        "\n",
        "The output should look like:\n",
        "```\n",
        "(tensor([[0.3647, 0.4709],\n",
        "         [0.5184, 0.5617]], device='cuda:0'), torch.Size([2, 2]))\n",
        "```"
      ],
      "metadata": {
        "id": "5TlAxeiSiu1y"
      }
    },
    {
      "cell_type": "code",
      "source": [
        "# Perform matmul on tensor_A and tensor_B\n",
        "tensor_c = torch.matmul(ts_a,ts_b.T)\n",
        "tensor_c,tensor_c.shape"
      ],
      "metadata": {
        "id": "fAeG7ox0lHEO",
        "outputId": "57113ebb-bbe1-4c48-f03f-ca446e383e38",
        "colab": {
          "base_uri": "https://localhost:8080/"
        }
      },
      "execution_count": 16,
      "outputs": [
        {
          "output_type": "execute_result",
          "data": {
            "text/plain": [
              "(tensor([[0.3647, 0.4709],\n",
              "         [0.5184, 0.5617]]), torch.Size([2, 2]))"
            ]
          },
          "metadata": {},
          "execution_count": 16
        }
      ]
    },
    {
      "cell_type": "markdown",
      "source": [
        "### 8. Find the maximum and minimum values of the output of 7."
      ],
      "metadata": {
        "id": "G7qfa5CSivwg"
      }
    },
    {
      "cell_type": "code",
      "source": [
        "# Find max\n",
        "tensor_c.max()\n",
        "# Find min\n",
        "tensor_c.min()"
      ],
      "metadata": {
        "id": "Fu8_3mZpllOd",
        "outputId": "595a99e5-bdcb-41bf-ca79-01f71b263e64",
        "colab": {
          "base_uri": "https://localhost:8080/"
        }
      },
      "execution_count": 18,
      "outputs": [
        {
          "output_type": "execute_result",
          "data": {
            "text/plain": [
              "tensor(0.3647)"
            ]
          },
          "metadata": {},
          "execution_count": 18
        }
      ]
    },
    {
      "cell_type": "markdown",
      "source": [
        "### 9. Find the maximum and minimum index values of the output of 7."
      ],
      "metadata": {
        "id": "wrTj5FgNiw47"
      }
    },
    {
      "cell_type": "code",
      "source": [
        "# Find arg max\n",
        "\n",
        "tensor_c.argmax()\n",
        "# Find arg min\n",
        "tensor_c.argmin()"
      ],
      "metadata": {
        "id": "CCEKt4K2lsfQ",
        "outputId": "035459e0-f57f-4e31-85e7-ee84faa04421",
        "colab": {
          "base_uri": "https://localhost:8080/"
        }
      },
      "execution_count": 20,
      "outputs": [
        {
          "output_type": "execute_result",
          "data": {
            "text/plain": [
              "tensor(0)"
            ]
          },
          "metadata": {},
          "execution_count": 20
        }
      ]
    },
    {
      "cell_type": "markdown",
      "source": [
        "\n",
        "### 10. Make a random tensor with shape `(1, 1, 1, 10)` and then create a new tensor with all the `1` dimensions removed to be left with a tensor of shape `(10)`. Set the seed to `7` when you create it and print out the first tensor and it's shape as well as the second tensor and it's shape.\n",
        "\n",
        "The output should look like:\n",
        "\n",
        "```\n",
        "tensor([[[[0.5349, 0.1988, 0.6592, 0.6569, 0.2328, 0.4251, 0.2071, 0.6297,\n",
        "           0.3653, 0.8513]]]]) torch.Size([1, 1, 1, 10])\n",
        "tensor([0.5349, 0.1988, 0.6592, 0.6569, 0.2328, 0.4251, 0.2071, 0.6297, 0.3653,\n",
        "        0.8513]) torch.Size([10])\n",
        "```"
      ],
      "metadata": {
        "id": "hmeybz4uixy7"
      }
    },
    {
      "cell_type": "code",
      "source": [
        "# Set seed\n",
        "\n",
        "torch.manual_seed(7)\n",
        "# Create random tensor\n",
        "x = torch.rand(1,1,1,10)\n",
        "\n",
        "# Remove single dimensions\n",
        "y =x.squeeze()\n",
        "\n",
        "\n",
        "# Print out tensors and their shapes\n",
        "x.shape,y.shape"
      ],
      "metadata": {
        "id": "TQ9zbRzVl1jV",
        "outputId": "ef197be3-1abc-4ca5-a9ed-1512cb6f691e",
        "colab": {
          "base_uri": "https://localhost:8080/"
        }
      },
      "execution_count": 22,
      "outputs": [
        {
          "output_type": "execute_result",
          "data": {
            "text/plain": [
              "(torch.Size([1, 1, 1, 10]), torch.Size([10]))"
            ]
          },
          "metadata": {},
          "execution_count": 22
        }
      ]
    }
  ]
}