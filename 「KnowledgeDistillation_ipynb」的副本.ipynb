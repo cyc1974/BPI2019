{
  "nbformat": 4,
  "nbformat_minor": 0,
  "metadata": {
    "colab": {
      "provenance": [],
      "authorship_tag": "ABX9TyN7oyMqFh68+XsRNKoWtkub",
      "include_colab_link": true
    },
    "kernelspec": {
      "name": "python3",
      "display_name": "Python 3"
    },
    "language_info": {
      "name": "python"
    }
  },
  "cells": [
    {
      "cell_type": "markdown",
      "metadata": {
        "id": "view-in-github",
        "colab_type": "text"
      },
      "source": [
        "<a href=\"https://colab.research.google.com/github/cyc1974/BPI2019/blob/main/%E3%80%8CKnowledgeDistillation_ipynb%E3%80%8D%E7%9A%84%E5%89%AF%E6%9C%AC.ipynb\" target=\"_parent\"><img src=\"https://colab.research.google.com/assets/colab-badge.svg\" alt=\"Open In Colab\"/></a>"
      ]
    },
    {
      "cell_type": "markdown",
      "source": [
        "# 以CIFAR10 dataset十種類別分類作為範例"
      ],
      "metadata": {
        "id": "0lrCc6AbGgOd"
      }
    },
    {
      "cell_type": "code",
      "execution_count": null,
      "metadata": {
        "colab": {
          "base_uri": "https://localhost:8080/"
        },
        "id": "fG3JRoNXE_3m",
        "outputId": "5d6b86fc-8253-4910-e10c-54ec58c11a43"
      },
      "outputs": [
        {
          "output_type": "stream",
          "name": "stdout",
          "text": [
            "x_train shape: (50000, 32, 32, 3) y_train shape: (50000, 1)\n"
          ]
        }
      ],
      "source": [
        "\n",
        "import tensorflow as tf\n",
        "import matplotlib.pyplot as plt \n",
        "import numpy as np\n",
        "from tensorflow.keras.models import Sequential, load_model, Model\n",
        "from tensorflow.keras.layers import Conv2D,GlobalAveragePooling2D,Dense,Softmax,Flatten,MaxPooling2D,Dropout,Activation, Lambda, concatenate\n",
        "from tensorflow.keras.callbacks import ModelCheckpoint\n",
        "from tensorflow.keras.losses import kullback_leibler_divergence as KLD_Loss, categorical_crossentropy as logloss\n",
        "from tensorflow.keras.utils import to_categorical\n",
        "from tensorflow.keras.metrics import categorical_accuracy\n",
        "import seaborn as sns\n",
        "\n",
        "NUM_CLASSES = 10\n",
        "class_names = [\"airplane\",\"automobile\",\"bird\",\"cat\",\"deer\",\"dog\",\"frog\",\"horse\",\"ship\",\"truck\"]     \n",
        "(x_train, y_train), (x_test, y_test) = tf.keras.datasets.cifar10.load_data()\n",
        "print(\"x_train shape:\", x_train.shape, \"y_train shape:\", y_train.shape)\n",
        " \n",
        "# Normalize the dataset\n",
        "x_train = x_train.astype('float32') / 255\n",
        "x_test = x_test.astype('float32') / 255"
      ]
    },
    {
      "cell_type": "code",
      "source": [],
      "metadata": {
        "id": "sEwbCsSiGq71"
      },
      "execution_count": null,
      "outputs": []
    },
    {
      "cell_type": "markdown",
      "source": [
        "# Teacher model"
      ],
      "metadata": {
        "id": "-lGLaELxGsF1"
      }
    },
    {
      "cell_type": "code",
      "source": [
        "Teacher = Sequential() \n",
        "Teacher.add(Conv2D(filters=16, kernel_size=2, padding='same', activation='relu', input_shape=(32,32,3)))\n",
        "Teacher.add(Conv2D(filters=32, kernel_size=2, padding='same', activation='relu'))\n",
        "Teacher.add(MaxPooling2D(pool_size=2))\n",
        "Teacher.add(Conv2D(filters=32, kernel_size=2, padding='same', activation='relu'))\n",
        "Teacher.add(Conv2D(filters=64, kernel_size=2, padding='same', activation='relu'))\n",
        "Teacher.add(MaxPooling2D(pool_size=2))\n",
        "Teacher.add(Dropout(0.5))\n",
        "Teacher.add(Flatten())\n",
        "Teacher.add(Dense(512, activation='relu'))\n",
        "Teacher.add(Dropout(0.5))\n",
        "Teacher.add(Dense(10))\n",
        "Teacher.add(Activation('softmax'))\n",
        "\n",
        "Teacher.compile(loss='sparse_categorical_crossentropy',\n",
        "             optimizer='adam',\n",
        "             metrics=['accuracy'])\n",
        " \n",
        "Teacher.summary()"
      ],
      "metadata": {
        "colab": {
          "base_uri": "https://localhost:8080/"
        },
        "id": "eLjVjApYGw5H",
        "outputId": "ec984ecc-5a73-4db9-8d25-9bdfe14697cb"
      },
      "execution_count": null,
      "outputs": [
        {
          "output_type": "stream",
          "name": "stdout",
          "text": [
            "Model: \"sequential\"\n",
            "_________________________________________________________________\n",
            " Layer (type)                Output Shape              Param #   \n",
            "=================================================================\n",
            " conv2d (Conv2D)             (None, 32, 32, 16)        208       \n",
            "                                                                 \n",
            " conv2d_1 (Conv2D)           (None, 32, 32, 32)        2080      \n",
            "                                                                 \n",
            " max_pooling2d (MaxPooling2D  (None, 16, 16, 32)       0         \n",
            " )                                                               \n",
            "                                                                 \n",
            " conv2d_2 (Conv2D)           (None, 16, 16, 32)        4128      \n",
            "                                                                 \n",
            " conv2d_3 (Conv2D)           (None, 16, 16, 64)        8256      \n",
            "                                                                 \n",
            " max_pooling2d_1 (MaxPooling  (None, 8, 8, 64)         0         \n",
            " 2D)                                                             \n",
            "                                                                 \n",
            " dropout (Dropout)           (None, 8, 8, 64)          0         \n",
            "                                                                 \n",
            " flatten (Flatten)           (None, 4096)              0         \n",
            "                                                                 \n",
            " dense (Dense)               (None, 512)               2097664   \n",
            "                                                                 \n",
            " dropout_1 (Dropout)         (None, 512)               0         \n",
            "                                                                 \n",
            " dense_1 (Dense)             (None, 10)                5130      \n",
            "                                                                 \n",
            " activation (Activation)     (None, 10)                0         \n",
            "                                                                 \n",
            "=================================================================\n",
            "Total params: 2,117,466\n",
            "Trainable params: 2,117,466\n",
            "Non-trainable params: 0\n",
            "_________________________________________________________________\n"
          ]
        }
      ]
    },
    {
      "cell_type": "markdown",
      "source": [
        "# Teacher model training"
      ],
      "metadata": {
        "id": "TzQ73VfIHYop"
      }
    },
    {
      "cell_type": "code",
      "source": [
        "myCP = ModelCheckpoint(save_best_only=True,filepath='teacher.h5',monitor = 'accuracy')\n",
        "Teacher.fit(x_train,\n",
        "         y_train,\n",
        "         batch_size=128,\n",
        "         epochs=100,\n",
        "         validation_split = 0.2,\n",
        "         callbacks=[myCP])"
      ],
      "metadata": {
        "colab": {
          "base_uri": "https://localhost:8080/"
        },
        "id": "Z2__nAcyHay5",
        "outputId": "160037f5-a390-4a01-e34e-65692c313986"
      },
      "execution_count": null,
      "outputs": [
        {
          "output_type": "stream",
          "name": "stdout",
          "text": [
            "Epoch 1/100\n",
            "313/313 [==============================] - 63s 197ms/step - loss: 1.6379 - accuracy: 0.4004 - val_loss: 1.3481 - val_accuracy: 0.5182\n",
            "Epoch 2/100\n",
            "313/313 [==============================] - 62s 197ms/step - loss: 1.2792 - accuracy: 0.5396 - val_loss: 1.1337 - val_accuracy: 0.5938\n",
            "Epoch 3/100\n",
            "313/313 [==============================] - 63s 201ms/step - loss: 1.1406 - accuracy: 0.5906 - val_loss: 1.0241 - val_accuracy: 0.6457\n",
            "Epoch 4/100\n",
            "313/313 [==============================] - 65s 209ms/step - loss: 1.0429 - accuracy: 0.6286 - val_loss: 0.9601 - val_accuracy: 0.6608\n",
            "Epoch 5/100\n",
            "313/313 [==============================] - 58s 186ms/step - loss: 0.9750 - accuracy: 0.6544 - val_loss: 0.8931 - val_accuracy: 0.6871\n",
            "Epoch 6/100\n",
            "299/313 [===========================>..] - ETA: 2s - loss: 0.9075 - accuracy: 0.6787"
          ]
        }
      ]
    },
    {
      "cell_type": "code",
      "source": [],
      "metadata": {
        "id": "4NGhMx6dI1e5"
      },
      "execution_count": null,
      "outputs": []
    }
  ]
}